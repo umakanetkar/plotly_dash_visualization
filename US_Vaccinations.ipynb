{
 "cells": [
  {
   "cell_type": "code",
   "execution_count": 43,
   "id": "9b06af66",
   "metadata": {},
   "outputs": [],
   "source": [
    "import pandas as pd\n",
    "import numpy as np"
   ]
  },
  {
   "cell_type": "code",
   "execution_count": 44,
   "id": "2a0095e0",
   "metadata": {},
   "outputs": [],
   "source": [
    "# print all the outputs in a cell\n",
    "from IPython.core.interactiveshell import InteractiveShell\n",
    "InteractiveShell.ast_node_interactivity = \"all\"\n",
    "\n",
    "pd.set_option('display.max_columns',None)\n",
    "pd.set_option('display.max_rows',None)\n",
    "pd.set_option('display.float_format', lambda x: '%.3f' % x)"
   ]
  },
  {
   "cell_type": "code",
   "execution_count": 45,
   "id": "9d7bd466",
   "metadata": {},
   "outputs": [],
   "source": [
    "vaccine_data= \"https://raw.githubusercontent.com/umakanetkar/plotly_dash_visualization/main/us_state_vaccinations1.csv\""
   ]
  },
  {
   "cell_type": "code",
   "execution_count": 46,
   "id": "e15946ff",
   "metadata": {},
   "outputs": [],
   "source": [
    "df = pd.read_csv(vaccine_data)"
   ]
  },
  {
   "cell_type": "code",
   "execution_count": 47,
   "id": "cdbb787f",
   "metadata": {},
   "outputs": [
    {
     "data": {
      "text/plain": [
       "Index(['date', 'State', 'daily_vaccinations', 'day', 'month', 'year'], dtype='object')"
      ]
     },
     "execution_count": 47,
     "metadata": {},
     "output_type": "execute_result"
    }
   ],
   "source": [
    "df.columns"
   ]
  },
  {
   "cell_type": "code",
   "execution_count": 48,
   "id": "383b76ee",
   "metadata": {},
   "outputs": [
    {
     "data": {
      "text/plain": [
       "(49700, 6)"
      ]
     },
     "execution_count": 48,
     "metadata": {},
     "output_type": "execute_result"
    }
   ],
   "source": [
    "df.shape"
   ]
  },
  {
   "cell_type": "code",
   "execution_count": 49,
   "id": "fe3a9fd6",
   "metadata": {},
   "outputs": [
    {
     "data": {
      "text/plain": [
       "date                   0\n",
       "State                  0\n",
       "daily_vaccinations    65\n",
       "day                    0\n",
       "month                  0\n",
       "year                   0\n",
       "dtype: int64"
      ]
     },
     "execution_count": 49,
     "metadata": {},
     "output_type": "execute_result"
    }
   ],
   "source": [
    "df.isna().sum()"
   ]
  },
  {
   "cell_type": "code",
   "execution_count": 50,
   "id": "b854e677",
   "metadata": {},
   "outputs": [],
   "source": [
    "df = df.fillna(method='bfill')"
   ]
  },
  {
   "cell_type": "code",
   "execution_count": 51,
   "id": "c61fadb1",
   "metadata": {},
   "outputs": [
    {
     "data": {
      "text/plain": [
       "date                  0\n",
       "State                 0\n",
       "daily_vaccinations    0\n",
       "day                   0\n",
       "month                 0\n",
       "year                  0\n",
       "dtype: int64"
      ]
     },
     "execution_count": 51,
     "metadata": {},
     "output_type": "execute_result"
    }
   ],
   "source": [
    "df.isna().sum()"
   ]
  },
  {
   "cell_type": "code",
   "execution_count": 52,
   "id": "6f230f91",
   "metadata": {},
   "outputs": [],
   "source": [
    "population_data = \"https://raw.githubusercontent.com/umakanetkar/plotly_dash_visualization/main/US_POP.xlsx\""
   ]
  },
  {
   "cell_type": "code",
   "execution_count": 53,
   "id": "f73fecaa",
   "metadata": {},
   "outputs": [],
   "source": [
    "pop=  pd.read_excel(population_data)\n",
    "#pop=  pd.read_excel(\"US_POP.xlsx\")"
   ]
  },
  {
   "cell_type": "code",
   "execution_count": 54,
   "id": "32a22559",
   "metadata": {},
   "outputs": [
    {
     "data": {
      "text/html": [
       "<div>\n",
       "<style scoped>\n",
       "    .dataframe tbody tr th:only-of-type {\n",
       "        vertical-align: middle;\n",
       "    }\n",
       "\n",
       "    .dataframe tbody tr th {\n",
       "        vertical-align: top;\n",
       "    }\n",
       "\n",
       "    .dataframe thead th {\n",
       "        text-align: right;\n",
       "    }\n",
       "</style>\n",
       "<table border=\"1\" class=\"dataframe\">\n",
       "  <thead>\n",
       "    <tr style=\"text-align: right;\">\n",
       "      <th></th>\n",
       "      <th>State</th>\n",
       "      <th>2021</th>\n",
       "      <th>2022</th>\n",
       "    </tr>\n",
       "  </thead>\n",
       "  <tbody>\n",
       "    <tr>\n",
       "      <th>0</th>\n",
       "      <td>.Alabama</td>\n",
       "      <td>5049846.000</td>\n",
       "      <td>5074296.000</td>\n",
       "    </tr>\n",
       "    <tr>\n",
       "      <th>1</th>\n",
       "      <td>.Alaska</td>\n",
       "      <td>734182.000</td>\n",
       "      <td>733583.000</td>\n",
       "    </tr>\n",
       "    <tr>\n",
       "      <th>2</th>\n",
       "      <td>.Arizona</td>\n",
       "      <td>7264877.000</td>\n",
       "      <td>7359197.000</td>\n",
       "    </tr>\n",
       "    <tr>\n",
       "      <th>3</th>\n",
       "      <td>.Arkansas</td>\n",
       "      <td>3028122.000</td>\n",
       "      <td>3045637.000</td>\n",
       "    </tr>\n",
       "    <tr>\n",
       "      <th>4</th>\n",
       "      <td>.California</td>\n",
       "      <td>39142991.000</td>\n",
       "      <td>39029342.000</td>\n",
       "    </tr>\n",
       "  </tbody>\n",
       "</table>\n",
       "</div>"
      ],
      "text/plain": [
       "         State         2021         2022\n",
       "0     .Alabama  5049846.000  5074296.000\n",
       "1      .Alaska   734182.000   733583.000\n",
       "2     .Arizona  7264877.000  7359197.000\n",
       "3    .Arkansas  3028122.000  3045637.000\n",
       "4  .California 39142991.000 39029342.000"
      ]
     },
     "execution_count": 54,
     "metadata": {},
     "output_type": "execute_result"
    }
   ],
   "source": [
    "pop.head()"
   ]
  },
  {
   "cell_type": "code",
   "execution_count": 55,
   "id": "6e7cf21c",
   "metadata": {},
   "outputs": [
    {
     "data": {
      "text/html": [
       "<div>\n",
       "<style scoped>\n",
       "    .dataframe tbody tr th:only-of-type {\n",
       "        vertical-align: middle;\n",
       "    }\n",
       "\n",
       "    .dataframe tbody tr th {\n",
       "        vertical-align: top;\n",
       "    }\n",
       "\n",
       "    .dataframe thead th {\n",
       "        text-align: right;\n",
       "    }\n",
       "</style>\n",
       "<table border=\"1\" class=\"dataframe\">\n",
       "  <thead>\n",
       "    <tr style=\"text-align: right;\">\n",
       "      <th></th>\n",
       "      <th>State</th>\n",
       "      <th>2021</th>\n",
       "      <th>2022</th>\n",
       "    </tr>\n",
       "  </thead>\n",
       "  <tbody>\n",
       "    <tr>\n",
       "      <th>0</th>\n",
       "      <td>.Alabama</td>\n",
       "      <td>5049846.000</td>\n",
       "      <td>5074296.000</td>\n",
       "    </tr>\n",
       "    <tr>\n",
       "      <th>1</th>\n",
       "      <td>.Alaska</td>\n",
       "      <td>734182.000</td>\n",
       "      <td>733583.000</td>\n",
       "    </tr>\n",
       "  </tbody>\n",
       "</table>\n",
       "</div>"
      ],
      "text/plain": [
       "      State        2021        2022\n",
       "0  .Alabama 5049846.000 5074296.000\n",
       "1   .Alaska  734182.000  733583.000"
      ]
     },
     "execution_count": 55,
     "metadata": {},
     "output_type": "execute_result"
    },
    {
     "data": {
      "text/html": [
       "<div>\n",
       "<style scoped>\n",
       "    .dataframe tbody tr th:only-of-type {\n",
       "        vertical-align: middle;\n",
       "    }\n",
       "\n",
       "    .dataframe tbody tr th {\n",
       "        vertical-align: top;\n",
       "    }\n",
       "\n",
       "    .dataframe thead th {\n",
       "        text-align: right;\n",
       "    }\n",
       "</style>\n",
       "<table border=\"1\" class=\"dataframe\">\n",
       "  <thead>\n",
       "    <tr style=\"text-align: right;\">\n",
       "      <th></th>\n",
       "      <th>date</th>\n",
       "      <th>State</th>\n",
       "      <th>daily_vaccinations</th>\n",
       "      <th>day</th>\n",
       "      <th>month</th>\n",
       "      <th>year</th>\n",
       "    </tr>\n",
       "  </thead>\n",
       "  <tbody>\n",
       "    <tr>\n",
       "      <th>0</th>\n",
       "      <td>12-01-2021</td>\n",
       "      <td>Alabama</td>\n",
       "      <td>5906.000</td>\n",
       "      <td>12</td>\n",
       "      <td>1</td>\n",
       "      <td>2021</td>\n",
       "    </tr>\n",
       "    <tr>\n",
       "      <th>1</th>\n",
       "      <td>13-01-2021</td>\n",
       "      <td>Alabama</td>\n",
       "      <td>5906.000</td>\n",
       "      <td>13</td>\n",
       "      <td>1</td>\n",
       "      <td>2021</td>\n",
       "    </tr>\n",
       "  </tbody>\n",
       "</table>\n",
       "</div>"
      ],
      "text/plain": [
       "         date    State  daily_vaccinations  day  month  year\n",
       "0  12-01-2021  Alabama            5906.000   12      1  2021\n",
       "1  13-01-2021  Alabama            5906.000   13      1  2021"
      ]
     },
     "execution_count": 55,
     "metadata": {},
     "output_type": "execute_result"
    }
   ],
   "source": [
    "pop.head(2)\n",
    "df.head(2)"
   ]
  },
  {
   "cell_type": "code",
   "execution_count": 56,
   "id": "d887e8dd",
   "metadata": {},
   "outputs": [
    {
     "data": {
      "text/plain": [
       "array(['Alabama', 'Alaska', 'American Samoa', 'Arizona', 'Arkansas',\n",
       "       'Bureau of Prisons', 'California', 'Colorado', 'Connecticut',\n",
       "       'Delaware', 'Dept of Defense', 'District of Columbia',\n",
       "       'Federated States of Micronesia', 'Florida', 'Georgia', 'Guam',\n",
       "       'Hawaii', 'Idaho', 'Illinois', 'Indian Health Svc', 'Indiana',\n",
       "       'Iowa', 'Kansas', 'Kentucky', 'Long Term Care', 'Louisiana',\n",
       "       'Maine', 'Marshall Islands', 'Maryland', 'Massachusetts',\n",
       "       'Michigan', 'Minnesota', 'Mississippi', 'Missouri', 'Montana',\n",
       "       'Nebraska', 'Nevada', 'New Hampshire', 'New Jersey', 'New Mexico',\n",
       "       'New York State', 'North Carolina', 'North Dakota',\n",
       "       'Northern Mariana Islands', 'Ohio', 'Oklahoma', 'Oregon',\n",
       "       'Pennsylvania', 'Puerto Rico', 'Republic of Palau', 'Rhode Island',\n",
       "       'South Carolina', 'South Dakota', 'Tennessee', 'Texas',\n",
       "       'United States', 'Utah', 'Vermont', 'Veterans Health',\n",
       "       'Virgin Islands', 'Virginia', 'Washington', 'West Virginia',\n",
       "       'Wisconsin', 'Wyoming'], dtype=object)"
      ]
     },
     "execution_count": 56,
     "metadata": {},
     "output_type": "execute_result"
    }
   ],
   "source": [
    "df.State.unique()"
   ]
  },
  {
   "cell_type": "code",
   "execution_count": 57,
   "id": "b27f9e2d",
   "metadata": {},
   "outputs": [
    {
     "data": {
      "text/plain": [
       "array(['.Alabama', '.Alaska', '.Arizona', '.Arkansas', '.California',\n",
       "       '.Colorado', '.Connecticut', '.Delaware', '.District of Columbia',\n",
       "       '.Florida', '.Georgia', '.Hawaii', '.Idaho', '.Illinois',\n",
       "       '.Indiana', '.Iowa', '.Kansas', '.Kentucky', '.Louisiana',\n",
       "       '.Maine', '.Maryland', '.Massachusetts', '.Michigan', '.Minnesota',\n",
       "       '.Mississippi', '.Missouri', '.Montana', '.Nebraska', '.Nevada',\n",
       "       '.New Hampshire', '.New Jersey', '.New Mexico', '.New York',\n",
       "       '.North Carolina', '.North Dakota', '.Ohio', '.Oklahoma',\n",
       "       '.Oregon', '.Pennsylvania', '.Rhode Island', '.South Carolina',\n",
       "       '.South Dakota', '.Tennessee', '.Texas', '.Utah', '.Vermont',\n",
       "       '.Virginia', '.Washington', '.West Virginia', '.Wisconsin',\n",
       "       '.Wyoming', nan, '.Puerto Rico'], dtype=object)"
      ]
     },
     "execution_count": 57,
     "metadata": {},
     "output_type": "execute_result"
    }
   ],
   "source": [
    "pop.State.unique()"
   ]
  },
  {
   "cell_type": "code",
   "execution_count": 58,
   "id": "d34a8fdd",
   "metadata": {},
   "outputs": [
    {
     "name": "stderr",
     "output_type": "stream",
     "text": [
      "C:\\Users\\Uma\\AppData\\Local\\Temp\\ipykernel_26800\\3681629672.py:1: FutureWarning:\n",
      "\n",
      "The default value of regex will change from True to False in a future version. In addition, single character regular expressions will *not* be treated as literal strings when regex=True.\n",
      "\n"
     ]
    }
   ],
   "source": [
    "pop['State'] = pop['State'].str.replace('.', '')"
   ]
  },
  {
   "cell_type": "code",
   "execution_count": 59,
   "id": "5f51c5c7",
   "metadata": {},
   "outputs": [],
   "source": [
    "merged_df = pd.merge(df, pop, on='State')"
   ]
  },
  {
   "cell_type": "code",
   "execution_count": 60,
   "id": "5cfb61ff",
   "metadata": {},
   "outputs": [
    {
     "data": {
      "text/plain": [
       "(49700, 6)"
      ]
     },
     "execution_count": 60,
     "metadata": {},
     "output_type": "execute_result"
    },
    {
     "data": {
      "text/plain": [
       "(53, 3)"
      ]
     },
     "execution_count": 60,
     "metadata": {},
     "output_type": "execute_result"
    },
    {
     "data": {
      "text/plain": [
       "(39372, 8)"
      ]
     },
     "execution_count": 60,
     "metadata": {},
     "output_type": "execute_result"
    }
   ],
   "source": [
    "df.shape\n",
    "pop.shape\n",
    "merged_df.shape"
   ]
  },
  {
   "cell_type": "code",
   "execution_count": 61,
   "id": "984af5a1",
   "metadata": {},
   "outputs": [
    {
     "data": {
      "text/html": [
       "<div>\n",
       "<style scoped>\n",
       "    .dataframe tbody tr th:only-of-type {\n",
       "        vertical-align: middle;\n",
       "    }\n",
       "\n",
       "    .dataframe tbody tr th {\n",
       "        vertical-align: top;\n",
       "    }\n",
       "\n",
       "    .dataframe thead th {\n",
       "        text-align: right;\n",
       "    }\n",
       "</style>\n",
       "<table border=\"1\" class=\"dataframe\">\n",
       "  <thead>\n",
       "    <tr style=\"text-align: right;\">\n",
       "      <th></th>\n",
       "      <th>date</th>\n",
       "      <th>State</th>\n",
       "      <th>daily_vaccinations</th>\n",
       "      <th>day</th>\n",
       "      <th>month</th>\n",
       "      <th>year</th>\n",
       "      <th>2021</th>\n",
       "      <th>2022</th>\n",
       "    </tr>\n",
       "  </thead>\n",
       "  <tbody>\n",
       "    <tr>\n",
       "      <th>0</th>\n",
       "      <td>12-01-2021</td>\n",
       "      <td>Alabama</td>\n",
       "      <td>5906.000</td>\n",
       "      <td>12</td>\n",
       "      <td>1</td>\n",
       "      <td>2021</td>\n",
       "      <td>5049846.000</td>\n",
       "      <td>5074296.000</td>\n",
       "    </tr>\n",
       "    <tr>\n",
       "      <th>1</th>\n",
       "      <td>13-01-2021</td>\n",
       "      <td>Alabama</td>\n",
       "      <td>5906.000</td>\n",
       "      <td>13</td>\n",
       "      <td>1</td>\n",
       "      <td>2021</td>\n",
       "      <td>5049846.000</td>\n",
       "      <td>5074296.000</td>\n",
       "    </tr>\n",
       "  </tbody>\n",
       "</table>\n",
       "</div>"
      ],
      "text/plain": [
       "         date    State  daily_vaccinations  day  month  year        2021  \\\n",
       "0  12-01-2021  Alabama            5906.000   12      1  2021 5049846.000   \n",
       "1  13-01-2021  Alabama            5906.000   13      1  2021 5049846.000   \n",
       "\n",
       "         2022  \n",
       "0 5074296.000  \n",
       "1 5074296.000  "
      ]
     },
     "execution_count": 61,
     "metadata": {},
     "output_type": "execute_result"
    }
   ],
   "source": [
    "merged_df.head(2)"
   ]
  },
  {
   "cell_type": "code",
   "execution_count": 62,
   "id": "f36eefc2",
   "metadata": {},
   "outputs": [],
   "source": [
    "merged_df['population'] = merged_df.apply(lambda row: row[2021] if row['year'] == 2021 else row[2022], axis=1)"
   ]
  },
  {
   "cell_type": "code",
   "execution_count": 63,
   "id": "fc6ca5e7",
   "metadata": {},
   "outputs": [
    {
     "data": {
      "text/html": [
       "<div>\n",
       "<style scoped>\n",
       "    .dataframe tbody tr th:only-of-type {\n",
       "        vertical-align: middle;\n",
       "    }\n",
       "\n",
       "    .dataframe tbody tr th {\n",
       "        vertical-align: top;\n",
       "    }\n",
       "\n",
       "    .dataframe thead th {\n",
       "        text-align: right;\n",
       "    }\n",
       "</style>\n",
       "<table border=\"1\" class=\"dataframe\">\n",
       "  <thead>\n",
       "    <tr style=\"text-align: right;\">\n",
       "      <th></th>\n",
       "      <th>date</th>\n",
       "      <th>State</th>\n",
       "      <th>daily_vaccinations</th>\n",
       "      <th>day</th>\n",
       "      <th>month</th>\n",
       "      <th>year</th>\n",
       "      <th>2021</th>\n",
       "      <th>2022</th>\n",
       "      <th>population</th>\n",
       "    </tr>\n",
       "  </thead>\n",
       "  <tbody>\n",
       "    <tr>\n",
       "      <th>0</th>\n",
       "      <td>12-01-2021</td>\n",
       "      <td>Alabama</td>\n",
       "      <td>5906.000</td>\n",
       "      <td>12</td>\n",
       "      <td>1</td>\n",
       "      <td>2021</td>\n",
       "      <td>5049846.000</td>\n",
       "      <td>5074296.000</td>\n",
       "      <td>5049846.000</td>\n",
       "    </tr>\n",
       "    <tr>\n",
       "      <th>1</th>\n",
       "      <td>13-01-2021</td>\n",
       "      <td>Alabama</td>\n",
       "      <td>5906.000</td>\n",
       "      <td>13</td>\n",
       "      <td>1</td>\n",
       "      <td>2021</td>\n",
       "      <td>5049846.000</td>\n",
       "      <td>5074296.000</td>\n",
       "      <td>5049846.000</td>\n",
       "    </tr>\n",
       "  </tbody>\n",
       "</table>\n",
       "</div>"
      ],
      "text/plain": [
       "         date    State  daily_vaccinations  day  month  year        2021  \\\n",
       "0  12-01-2021  Alabama            5906.000   12      1  2021 5049846.000   \n",
       "1  13-01-2021  Alabama            5906.000   13      1  2021 5049846.000   \n",
       "\n",
       "         2022  population  \n",
       "0 5074296.000 5049846.000  \n",
       "1 5074296.000 5049846.000  "
      ]
     },
     "execution_count": 63,
     "metadata": {},
     "output_type": "execute_result"
    }
   ],
   "source": [
    "merged_df.head(2)"
   ]
  },
  {
   "cell_type": "code",
   "execution_count": 64,
   "id": "33a6357c",
   "metadata": {},
   "outputs": [
    {
     "data": {
      "text/plain": [
       "date                  False\n",
       "State                 False\n",
       "daily_vaccinations    False\n",
       "day                   False\n",
       "month                 False\n",
       "year                  False\n",
       "2021                  False\n",
       "2022                  False\n",
       "population            False\n",
       "dtype: bool"
      ]
     },
     "execution_count": 64,
     "metadata": {},
     "output_type": "execute_result"
    }
   ],
   "source": [
    "merged_df.isna().any()"
   ]
  },
  {
   "cell_type": "code",
   "execution_count": 65,
   "id": "d8520d50",
   "metadata": {},
   "outputs": [],
   "source": [
    "df=merged_df[['date','State','daily_vaccinations','day','month','year','population' ]]"
   ]
  },
  {
   "cell_type": "code",
   "execution_count": 66,
   "id": "903b995b",
   "metadata": {},
   "outputs": [
    {
     "name": "stderr",
     "output_type": "stream",
     "text": [
      "C:\\Users\\Uma\\AppData\\Local\\Temp\\ipykernel_26800\\2308413626.py:1: SettingWithCopyWarning:\n",
      "\n",
      "\n",
      "A value is trying to be set on a copy of a slice from a DataFrame.\n",
      "Try using .loc[row_indexer,col_indexer] = value instead\n",
      "\n",
      "See the caveats in the documentation: https://pandas.pydata.org/pandas-docs/stable/user_guide/indexing.html#returning-a-view-versus-a-copy\n",
      "\n"
     ]
    }
   ],
   "source": [
    "df['cumulative_vaccinations'] = df.groupby(['State'])['daily_vaccinations'].cumsum()"
   ]
  },
  {
   "cell_type": "code",
   "execution_count": 67,
   "id": "2a631815",
   "metadata": {},
   "outputs": [
    {
     "data": {
      "text/html": [
       "<div>\n",
       "<style scoped>\n",
       "    .dataframe tbody tr th:only-of-type {\n",
       "        vertical-align: middle;\n",
       "    }\n",
       "\n",
       "    .dataframe tbody tr th {\n",
       "        vertical-align: top;\n",
       "    }\n",
       "\n",
       "    .dataframe thead th {\n",
       "        text-align: right;\n",
       "    }\n",
       "</style>\n",
       "<table border=\"1\" class=\"dataframe\">\n",
       "  <thead>\n",
       "    <tr style=\"text-align: right;\">\n",
       "      <th></th>\n",
       "      <th>date</th>\n",
       "      <th>State</th>\n",
       "      <th>daily_vaccinations</th>\n",
       "      <th>day</th>\n",
       "      <th>month</th>\n",
       "      <th>year</th>\n",
       "      <th>population</th>\n",
       "      <th>cumulative_vaccinations</th>\n",
       "    </tr>\n",
       "  </thead>\n",
       "  <tbody>\n",
       "    <tr>\n",
       "      <th>0</th>\n",
       "      <td>12-01-2021</td>\n",
       "      <td>Alabama</td>\n",
       "      <td>5906.000</td>\n",
       "      <td>12</td>\n",
       "      <td>1</td>\n",
       "      <td>2021</td>\n",
       "      <td>5049846.000</td>\n",
       "      <td>5906.000</td>\n",
       "    </tr>\n",
       "    <tr>\n",
       "      <th>1</th>\n",
       "      <td>13-01-2021</td>\n",
       "      <td>Alabama</td>\n",
       "      <td>5906.000</td>\n",
       "      <td>13</td>\n",
       "      <td>1</td>\n",
       "      <td>2021</td>\n",
       "      <td>5049846.000</td>\n",
       "      <td>11812.000</td>\n",
       "    </tr>\n",
       "    <tr>\n",
       "      <th>2</th>\n",
       "      <td>14-01-2021</td>\n",
       "      <td>Alabama</td>\n",
       "      <td>7083.000</td>\n",
       "      <td>14</td>\n",
       "      <td>1</td>\n",
       "      <td>2021</td>\n",
       "      <td>5049846.000</td>\n",
       "      <td>18895.000</td>\n",
       "    </tr>\n",
       "    <tr>\n",
       "      <th>3</th>\n",
       "      <td>15-01-2021</td>\n",
       "      <td>Alabama</td>\n",
       "      <td>7478.000</td>\n",
       "      <td>15</td>\n",
       "      <td>1</td>\n",
       "      <td>2021</td>\n",
       "      <td>5049846.000</td>\n",
       "      <td>26373.000</td>\n",
       "    </tr>\n",
       "    <tr>\n",
       "      <th>4</th>\n",
       "      <td>16-01-2021</td>\n",
       "      <td>Alabama</td>\n",
       "      <td>7498.000</td>\n",
       "      <td>16</td>\n",
       "      <td>1</td>\n",
       "      <td>2021</td>\n",
       "      <td>5049846.000</td>\n",
       "      <td>33871.000</td>\n",
       "    </tr>\n",
       "  </tbody>\n",
       "</table>\n",
       "</div>"
      ],
      "text/plain": [
       "         date    State  daily_vaccinations  day  month  year  population  \\\n",
       "0  12-01-2021  Alabama            5906.000   12      1  2021 5049846.000   \n",
       "1  13-01-2021  Alabama            5906.000   13      1  2021 5049846.000   \n",
       "2  14-01-2021  Alabama            7083.000   14      1  2021 5049846.000   \n",
       "3  15-01-2021  Alabama            7478.000   15      1  2021 5049846.000   \n",
       "4  16-01-2021  Alabama            7498.000   16      1  2021 5049846.000   \n",
       "\n",
       "   cumulative_vaccinations  \n",
       "0                 5906.000  \n",
       "1                11812.000  \n",
       "2                18895.000  \n",
       "3                26373.000  \n",
       "4                33871.000  "
      ]
     },
     "execution_count": 67,
     "metadata": {},
     "output_type": "execute_result"
    }
   ],
   "source": [
    "df.head()"
   ]
  },
  {
   "cell_type": "code",
   "execution_count": 68,
   "id": "d564b65d",
   "metadata": {},
   "outputs": [],
   "source": [
    "#to get % of population vaccinated\n",
    "df['percent'] = df.apply(lambda row: (row['cumulative_vaccinations'] / row['population']) * 100, axis=1)"
   ]
  },
  {
   "cell_type": "code",
   "execution_count": 69,
   "id": "d53ebea9",
   "metadata": {},
   "outputs": [],
   "source": [
    "df = df.groupby(['State','year','month']).agg({'daily_vaccinations': 'sum','percent': 'max'}).reset_index()"
   ]
  },
  {
   "cell_type": "code",
   "execution_count": 70,
   "id": "4909a5c0",
   "metadata": {},
   "outputs": [
    {
     "data": {
      "text/html": [
       "<div>\n",
       "<style scoped>\n",
       "    .dataframe tbody tr th:only-of-type {\n",
       "        vertical-align: middle;\n",
       "    }\n",
       "\n",
       "    .dataframe tbody tr th {\n",
       "        vertical-align: top;\n",
       "    }\n",
       "\n",
       "    .dataframe thead th {\n",
       "        text-align: right;\n",
       "    }\n",
       "</style>\n",
       "<table border=\"1\" class=\"dataframe\">\n",
       "  <thead>\n",
       "    <tr style=\"text-align: right;\">\n",
       "      <th></th>\n",
       "      <th>State</th>\n",
       "      <th>year</th>\n",
       "      <th>month</th>\n",
       "      <th>daily_vaccinations</th>\n",
       "      <th>percent</th>\n",
       "    </tr>\n",
       "  </thead>\n",
       "  <tbody>\n",
       "    <tr>\n",
       "      <th>0</th>\n",
       "      <td>Alabama</td>\n",
       "      <td>2021</td>\n",
       "      <td>1</td>\n",
       "      <td>241218.000</td>\n",
       "      <td>4.777</td>\n",
       "    </tr>\n",
       "    <tr>\n",
       "      <th>1</th>\n",
       "      <td>Alabama</td>\n",
       "      <td>2021</td>\n",
       "      <td>2</td>\n",
       "      <td>576041.000</td>\n",
       "      <td>16.184</td>\n",
       "    </tr>\n",
       "    <tr>\n",
       "      <th>2</th>\n",
       "      <td>Alabama</td>\n",
       "      <td>2021</td>\n",
       "      <td>3</td>\n",
       "      <td>786827.000</td>\n",
       "      <td>31.765</td>\n",
       "    </tr>\n",
       "    <tr>\n",
       "      <th>3</th>\n",
       "      <td>Alabama</td>\n",
       "      <td>2021</td>\n",
       "      <td>4</td>\n",
       "      <td>857332.000</td>\n",
       "      <td>48.742</td>\n",
       "    </tr>\n",
       "    <tr>\n",
       "      <th>4</th>\n",
       "      <td>Alabama</td>\n",
       "      <td>2021</td>\n",
       "      <td>5</td>\n",
       "      <td>499604.000</td>\n",
       "      <td>58.636</td>\n",
       "    </tr>\n",
       "  </tbody>\n",
       "</table>\n",
       "</div>"
      ],
      "text/plain": [
       "     State  year  month  daily_vaccinations  percent\n",
       "0  Alabama  2021      1          241218.000    4.777\n",
       "1  Alabama  2021      2          576041.000   16.184\n",
       "2  Alabama  2021      3          786827.000   31.765\n",
       "3  Alabama  2021      4          857332.000   48.742\n",
       "4  Alabama  2021      5          499604.000   58.636"
      ]
     },
     "execution_count": 70,
     "metadata": {},
     "output_type": "execute_result"
    }
   ],
   "source": [
    "df.head()"
   ]
  },
  {
   "cell_type": "code",
   "execution_count": 71,
   "id": "0132447f",
   "metadata": {},
   "outputs": [],
   "source": [
    "#since we dont have population data of 2023\n",
    "df = df[df['year']!=2023]"
   ]
  },
  {
   "cell_type": "code",
   "execution_count": 72,
   "id": "596c0a99",
   "metadata": {},
   "outputs": [],
   "source": [
    "#converting state names to state abbreviations\n",
    "us_state_abbrev = {\n",
    "    'Alabama': 'AL',\n",
    "    'Alaska': 'AK',\n",
    "    'Arizona': 'AZ',\n",
    "    'Arkansas': 'AR',\n",
    "    'California': 'CA',\n",
    "    'Colorado': 'CO',\n",
    "    'Connecticut': 'CT',\n",
    "    'Delaware': 'DE',\n",
    "    'Florida': 'FL',\n",
    "    'Georgia': 'GA',\n",
    "    'Hawaii': 'HI',\n",
    "    'Idaho': 'ID',\n",
    "    'Illinois': 'IL',\n",
    "    'Indiana': 'IN',\n",
    "    'Iowa': 'IA',\n",
    "    'Kansas': 'KS',\n",
    "    'Kentucky': 'KY',\n",
    "    'Louisiana': 'LA',\n",
    "    'Maine': 'ME',\n",
    "    'Maryland': 'MD',\n",
    "    'Massachusetts': 'MA',\n",
    "    'Michigan': 'MI',\n",
    "    'Minnesota': 'MN',\n",
    "    'Mississippi': 'MS',\n",
    "    'Missouri': 'MO',\n",
    "    'Montana': 'MT',\n",
    "    'Nebraska': 'NE',\n",
    "    'Nevada': 'NV',\n",
    "    'New Hampshire': 'NH',\n",
    "    'New Jersey': 'NJ',\n",
    "    'New Mexico': 'NM',\n",
    "    'New York': 'NY',\n",
    "    'North Carolina': 'NC',\n",
    "    'North Dakota': 'ND',\n",
    "    'Ohio': 'OH',\n",
    "    'Oklahoma': 'OK',\n",
    "    'Oregon': 'OR',\n",
    "    'Pennsylvania': 'PA',\n",
    "    'Rhode Island': 'RI',\n",
    "    'South Carolina': 'SC',\n",
    "    'South Dakota': 'SD',\n",
    "    'Tennessee': 'TN',\n",
    "    'Texas': 'TX',\n",
    "    'Utah': 'UT',\n",
    "    'Vermont': 'VT',\n",
    "    'Virginia': 'VA',\n",
    "    'Washington': 'WA',\n",
    "    'West Virginia': 'WV',\n",
    "    'Wisconsin': 'WI',\n",
    "    'Wyoming': 'WY'\n",
    "}"
   ]
  },
  {
   "cell_type": "code",
   "execution_count": 73,
   "id": "0b3ba906",
   "metadata": {},
   "outputs": [],
   "source": [
    "df['state_abbr'] = df['State'].map(us_state_abbrev)"
   ]
  },
  {
   "cell_type": "code",
   "execution_count": 74,
   "id": "f07b0afd",
   "metadata": {},
   "outputs": [
    {
     "data": {
      "text/html": [
       "<div>\n",
       "<style scoped>\n",
       "    .dataframe tbody tr th:only-of-type {\n",
       "        vertical-align: middle;\n",
       "    }\n",
       "\n",
       "    .dataframe tbody tr th {\n",
       "        vertical-align: top;\n",
       "    }\n",
       "\n",
       "    .dataframe thead th {\n",
       "        text-align: right;\n",
       "    }\n",
       "</style>\n",
       "<table border=\"1\" class=\"dataframe\">\n",
       "  <thead>\n",
       "    <tr style=\"text-align: right;\">\n",
       "      <th></th>\n",
       "      <th>State</th>\n",
       "      <th>year</th>\n",
       "      <th>month</th>\n",
       "      <th>daily_vaccinations</th>\n",
       "      <th>percent</th>\n",
       "      <th>state_abbr</th>\n",
       "    </tr>\n",
       "  </thead>\n",
       "  <tbody>\n",
       "    <tr>\n",
       "      <th>0</th>\n",
       "      <td>Alabama</td>\n",
       "      <td>2021</td>\n",
       "      <td>1</td>\n",
       "      <td>241218.000</td>\n",
       "      <td>4.777</td>\n",
       "      <td>AL</td>\n",
       "    </tr>\n",
       "    <tr>\n",
       "      <th>1</th>\n",
       "      <td>Alabama</td>\n",
       "      <td>2021</td>\n",
       "      <td>2</td>\n",
       "      <td>576041.000</td>\n",
       "      <td>16.184</td>\n",
       "      <td>AL</td>\n",
       "    </tr>\n",
       "  </tbody>\n",
       "</table>\n",
       "</div>"
      ],
      "text/plain": [
       "     State  year  month  daily_vaccinations  percent state_abbr\n",
       "0  Alabama  2021      1          241218.000    4.777         AL\n",
       "1  Alabama  2021      2          576041.000   16.184         AL"
      ]
     },
     "execution_count": 74,
     "metadata": {},
     "output_type": "execute_result"
    }
   ],
   "source": [
    "df.head(2)"
   ]
  },
  {
   "cell_type": "markdown",
   "id": "639bef62",
   "metadata": {},
   "source": [
    "### Building a Dashboard"
   ]
  },
  {
   "cell_type": "code",
   "execution_count": 75,
   "id": "d9a2cc3f",
   "metadata": {},
   "outputs": [],
   "source": [
    "import dash\n",
    "import dash_core_components as dcc\n",
    "import dash_html_components as html\n",
    "from dash.dependencies import Input, Output\n",
    "import plotly.express as px  # (version 4.7.0 or higher)\n",
    "import plotly.graph_objects as go\n",
    "from dash import Dash, Input, Output  # pip install dash (version 2.0.0 or higher)\n",
    "#from dash import  dcc, html"
   ]
  },
  {
   "cell_type": "code",
   "execution_count": 76,
   "id": "f16ea275",
   "metadata": {},
   "outputs": [
    {
     "name": "stdout",
     "output_type": "stream",
     "text": [
      "Dash is running on http://127.0.0.1:8050/\n",
      "\n",
      "Dash is running on http://127.0.0.1:8050/\n",
      "\n",
      " * Serving Flask app \"__main__\" (lazy loading)\n",
      " * Environment: production\n",
      "\u001b[31m   WARNING: This is a development server. Do not use it in a production deployment.\u001b[0m\n",
      "\u001b[2m   Use a production WSGI server instead.\u001b[0m\n",
      " * Debug mode: off\n"
     ]
    },
    {
     "name": "stderr",
     "output_type": "stream",
     "text": [
      " * Running on http://127.0.0.1:8050/ (Press CTRL+C to quit)\n",
      "127.0.0.1 - - [04/Mar/2023 12:36:44] \"GET / HTTP/1.1\" 200 -\n",
      "127.0.0.1 - - [04/Mar/2023 12:36:44] \"GET /_dash-component-suites/dash/deps/polyfill@7.v2_8_1m1677788500.12.1.min.js HTTP/1.1\" 200 -\n",
      "127.0.0.1 - - [04/Mar/2023 12:36:44] \"GET /_dash-component-suites/dash/deps/react@16.v2_8_1m1677788500.14.0.min.js HTTP/1.1\" 200 -\n",
      "127.0.0.1 - - [04/Mar/2023 12:36:44] \"GET /_dash-component-suites/dash/deps/react-dom@16.v2_8_1m1677788500.14.0.min.js HTTP/1.1\" 200 -\n",
      "127.0.0.1 - - [04/Mar/2023 12:36:44] \"GET /_dash-component-suites/dash/deps/prop-types@15.v2_8_1m1677788500.8.1.min.js HTTP/1.1\" 200 -\n",
      "127.0.0.1 - - [04/Mar/2023 12:36:44] \"GET /_dash-component-suites/dash/dash-renderer/build/dash_renderer.v2_8_1m1677788499.min.js HTTP/1.1\" 200 -\n",
      "127.0.0.1 - - [04/Mar/2023 12:36:44] \"GET /_dash-component-suites/dash/dcc/dash_core_components.v2_8_0m1677788500.js HTTP/1.1\" 200 -\n",
      "127.0.0.1 - - [04/Mar/2023 12:36:44] \"GET /_dash-component-suites/dash/dcc/dash_core_components-shared.v2_8_0m1677788500.js HTTP/1.1\" 200 -\n",
      "127.0.0.1 - - [04/Mar/2023 12:36:44] \"GET /_dash-component-suites/dash/html/dash_html_components.v2_0_8m1677788501.min.js HTTP/1.1\" 200 -\n",
      "127.0.0.1 - - [04/Mar/2023 12:36:44] \"GET /_dash-component-suites/dash/dash_table/bundle.v5_2_2m1677788500.js HTTP/1.1\" 200 -\n",
      "127.0.0.1 - - [04/Mar/2023 12:36:44] \"GET /_dash-layout HTTP/1.1\" 200 -\n",
      "127.0.0.1 - - [04/Mar/2023 12:36:44] \"GET /_dash-dependencies HTTP/1.1\" 200 -\n",
      "127.0.0.1 - - [04/Mar/2023 12:36:44] \"GET /_dash-component-suites/dash/dcc/async-dropdown.js HTTP/1.1\" 200 -\n",
      "127.0.0.1 - - [04/Mar/2023 12:36:44] \"GET /_dash-component-suites/dash/dcc/async-graph.js HTTP/1.1\" 200 -\n",
      "127.0.0.1 - - [04/Mar/2023 12:36:44] \"GET /_dash-component-suites/dash/dcc/async-plotlyjs.js HTTP/1.1\" 200 -\n",
      "127.0.0.1 - - [04/Mar/2023 12:36:44] \"POST /_dash-update-component HTTP/1.1\" 200 -\n",
      "127.0.0.1 - - [04/Mar/2023 12:36:49] \"POST /_dash-update-component HTTP/1.1\" 200 -\n",
      "127.0.0.1 - - [04/Mar/2023 12:36:52] \"POST /_dash-update-component HTTP/1.1\" 200 -\n"
     ]
    }
   ],
   "source": [
    "# Define the app\n",
    "app = dash.Dash(__name__)\n",
    "\n",
    "server=app.server\n",
    "\n",
    "# Layout\n",
    "app.layout = html.Div([\n",
    "    html.H1(\"Choropleth Map with Plotly Dash\"),\n",
    "    dcc.Dropdown(\n",
    "        id=\"year-dropdown\",\n",
    "        options=[{\"label\": year, \"value\": year} for year in df[\"year\"].unique()],\n",
    "        value=df[\"year\"].min()\n",
    "    ),\n",
    "    dcc.Dropdown(\n",
    "        id=\"month-dropdown\",\n",
    "        options=[{\"label\": month, \"value\": month} for month in df[\"month\"].unique()],\n",
    "        value=df[\"month\"].min()\n",
    "    ),\n",
    "    dcc.Graph(id=\"choropleth-map\")\n",
    "])\n",
    "\n",
    "# Callback\n",
    "@app.callback(\n",
    "    Output(\"choropleth-map\", \"figure\"),\n",
    "    [Input(\"year-dropdown\", \"value\"), Input(\"month-dropdown\", \"value\")]\n",
    ")\n",
    "def update_choropleth_map(year, month):\n",
    "    filtered_df = df[(df[\"year\"] == year) & (df[\"month\"] == month)]\n",
    "    fig = px.choropleth(\n",
    "        filtered_df, \n",
    "        locations=\"state_abbr\", \n",
    "        locationmode=\"USA-states\", \n",
    "        color=\"percent\", \n",
    "        scope=\"usa\",\n",
    "        color_continuous_scale=px.colors.sequential.YlOrRd,\n",
    "        #labels={'percent': '% of Vaccinated Population'}\n",
    "        #labels={'percent': '% of population vaccinated', 'state_abbr': 'State'}\n",
    "        labels={'percent': '% of Population Vaccinated', 'State': 'State'}\n",
    "    )\n",
    "    fig.update_layout(\n",
    "        margin={\"r\":0,\"t\":0,\"l\":0,\"b\":0},\n",
    "        template=\"plotly_dark\"\n",
    "    )\n",
    "    return fig\n",
    "\n",
    "# Running the app\n",
    "if __name__ == \"__main__\":\n",
    "    app.run_server()"
   ]
  },
  {
   "cell_type": "code",
   "execution_count": null,
   "id": "7f56ba52",
   "metadata": {},
   "outputs": [],
   "source": []
  },
  {
   "cell_type": "code",
   "execution_count": null,
   "id": "da0198ca",
   "metadata": {},
   "outputs": [],
   "source": []
  },
  {
   "cell_type": "code",
   "execution_count": null,
   "id": "2341b72c",
   "metadata": {},
   "outputs": [],
   "source": []
  }
 ],
 "metadata": {
  "kernelspec": {
   "display_name": "Python 3 (ipykernel)",
   "language": "python",
   "name": "python3"
  },
  "language_info": {
   "codemirror_mode": {
    "name": "ipython",
    "version": 3
   },
   "file_extension": ".py",
   "mimetype": "text/x-python",
   "name": "python",
   "nbconvert_exporter": "python",
   "pygments_lexer": "ipython3",
   "version": "3.9.12"
  }
 },
 "nbformat": 4,
 "nbformat_minor": 5
}
